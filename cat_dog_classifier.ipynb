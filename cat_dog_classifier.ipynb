{
 "cells": [
  {
   "cell_type": "markdown",
   "metadata": {
    "id": "3DR-eO17geWu"
   },
   "source": [
    "# Convolutional Neural Network"
   ]
  },
  {
   "cell_type": "markdown",
   "metadata": {
    "id": "EMefrVPCg-60"
   },
   "source": [
    "### Importing the libraries"
   ]
  },
  {
   "cell_type": "code",
   "execution_count": 7,
   "metadata": {
    "id": "W96sXU_MXrdB"
   },
   "outputs": [],
   "source": [
    "import tensorflow as tf"
   ]
  },
  {
   "cell_type": "code",
   "execution_count": 10,
   "metadata": {
    "colab": {
     "base_uri": "https://localhost:8080/"
    },
    "id": "jUmV8xWM9D2Q",
    "outputId": "e010e4b5-3e13-4de1-e072-00c82022a81d"
   },
   "outputs": [],
   "source": [
    "from tensorflow.keras.preprocessing.image import ImageDataGenerator"
   ]
  },
  {
   "cell_type": "markdown",
   "metadata": {
    "id": "oxQxCBWyoGPE"
   },
   "source": [
    "## Part 1 - Data Preprocessing"
   ]
  },
  {
   "cell_type": "markdown",
   "metadata": {
    "id": "MvE-heJNo3GG"
   },
   "source": [
    "### Preprocessing the Training set"
   ]
  },
  {
   "cell_type": "code",
   "execution_count": 13,
   "metadata": {
    "id": "Dj908nA9YP2r"
   },
   "outputs": [
    {
     "name": "stdout",
     "output_type": "stream",
     "text": [
      "Found 8000 images belonging to 2 classes.\n"
     ]
    }
   ],
   "source": [
    "train_datagen = ImageDataGenerator(\n",
    "        rescale=1./255,\n",
    "        shear_range=0.2,\n",
    "        zoom_range=0.2,\n",
    "        horizontal_flip=True)\n",
    "training_set = train_datagen.flow_from_directory(\n",
    "        'dataset/training_set',\n",
    "        target_size=(64, 64),\n",
    "        batch_size=32,\n",
    "        class_mode='binary')"
   ]
  },
  {
   "cell_type": "markdown",
   "metadata": {
    "id": "mrCMmGw9pHys"
   },
   "source": [
    "### Preprocessing the Test set"
   ]
  },
  {
   "cell_type": "code",
   "execution_count": 14,
   "metadata": {
    "id": "RRg65SJ9oOx0"
   },
   "outputs": [
    {
     "name": "stdout",
     "output_type": "stream",
     "text": [
      "Found 2000 images belonging to 2 classes.\n"
     ]
    }
   ],
   "source": [
    "test_datagen = ImageDataGenerator(rescale=1./255)\n",
    "test_set = test_datagen.flow_from_directory(\n",
    "        'dataset/test_set',\n",
    "        target_size=(64, 64),\n",
    "        batch_size=32,\n",
    "        class_mode='binary')\n"
   ]
  },
  {
   "cell_type": "markdown",
   "metadata": {
    "id": "af8O4l90gk7B"
   },
   "source": [
    "## Part 2 - Building the CNN"
   ]
  },
  {
   "cell_type": "markdown",
   "metadata": {
    "id": "ces1gXY2lmoX"
   },
   "source": [
    "### Initialising the CNN"
   ]
  },
  {
   "cell_type": "code",
   "execution_count": 15,
   "metadata": {
    "id": "S6bGkitXo2sW"
   },
   "outputs": [],
   "source": [
    "cnn = tf.keras.Sequential()"
   ]
  },
  {
   "cell_type": "markdown",
   "metadata": {
    "id": "u5YJj_XMl5LF"
   },
   "source": [
    "### Step 1 - Convolution"
   ]
  },
  {
   "cell_type": "code",
   "execution_count": 18,
   "metadata": {
    "id": "e5TU9aHV1K_a"
   },
   "outputs": [],
   "source": [
    "cnn.add(tf.keras.layers.Conv2D(filters=32,kernel_size=3,activation='relu',input_shape=(64,64,3)))"
   ]
  },
  {
   "cell_type": "markdown",
   "metadata": {
    "id": "tf87FpvxmNOJ"
   },
   "source": [
    "### Step 2 - Pooling"
   ]
  },
  {
   "cell_type": "code",
   "execution_count": 19,
   "metadata": {
    "id": "OZ-47CU11WsW"
   },
   "outputs": [],
   "source": [
    "cnn.add(tf.keras.layers.MaxPool2D(pool_size=2,strides=2))"
   ]
  },
  {
   "cell_type": "markdown",
   "metadata": {
    "id": "xaTOgD8rm4mU"
   },
   "source": [
    "### Adding a second convolutional layer"
   ]
  },
  {
   "cell_type": "code",
   "execution_count": 21,
   "metadata": {
    "id": "XbeIy9tc58uJ"
   },
   "outputs": [],
   "source": [
    "cnn.add(tf.keras.layers.Conv2D(filters=32,kernel_size=3,activation='relu',input_shape=(64,64,3)))\n",
    "cnn.add(tf.keras.layers.MaxPool2D(pool_size=2,strides=2))"
   ]
  },
  {
   "cell_type": "markdown",
   "metadata": {
    "id": "tmiEuvTunKfk"
   },
   "source": [
    "### Step 3 - Flattening"
   ]
  },
  {
   "cell_type": "code",
   "execution_count": 22,
   "metadata": {
    "id": "dJ2sKFJk6QNd"
   },
   "outputs": [],
   "source": [
    "cnn.add(tf.keras.layers.Flatten())"
   ]
  },
  {
   "cell_type": "markdown",
   "metadata": {
    "id": "dAoSECOm203v"
   },
   "source": [
    "### Step 4 - Full Connection"
   ]
  },
  {
   "cell_type": "code",
   "execution_count": 23,
   "metadata": {
    "id": "ZEG38Kvm6cqK"
   },
   "outputs": [],
   "source": [
    "cnn.add(tf.keras.layers.Dense(units=149,activation='relu'))"
   ]
  },
  {
   "cell_type": "markdown",
   "metadata": {
    "id": "yTldFvbX28Na"
   },
   "source": [
    "### Step 5 - Output Layer"
   ]
  },
  {
   "cell_type": "code",
   "execution_count": 24,
   "metadata": {
    "id": "lvrnU05Q63vL"
   },
   "outputs": [],
   "source": [
    "cnn.add(tf.keras.layers.Dense(units=1,activation='sigmoid'))"
   ]
  },
  {
   "cell_type": "markdown",
   "metadata": {
    "id": "D6XkI90snSDl"
   },
   "source": [
    "## Part 3 - Training the CNN"
   ]
  },
  {
   "cell_type": "markdown",
   "metadata": {
    "id": "vfrFQACEnc6i"
   },
   "source": [
    "### Compiling the CNN"
   ]
  },
  {
   "cell_type": "code",
   "execution_count": 25,
   "metadata": {
    "id": "Mz3wFDGn7OEL"
   },
   "outputs": [],
   "source": [
    "cnn.compile(optimizer='adam',loss='binary_crossentropy',metrics=['accuracy'])"
   ]
  },
  {
   "cell_type": "markdown",
   "metadata": {
    "id": "ehS-v3MIpX2h"
   },
   "source": [
    "### Training the CNN on the Training set and evaluating it on the Test set"
   ]
  },
  {
   "cell_type": "code",
   "execution_count": 26,
   "metadata": {
    "id": "UG9rUuXG7OlJ"
   },
   "outputs": [
    {
     "name": "stdout",
     "output_type": "stream",
     "text": [
      "Epoch 1/27\n",
      "250/250 [==============================] - 31s 125ms/step - loss: 0.6663 - accuracy: 0.5938 - val_loss: 0.5919 - val_accuracy: 0.7030\n",
      "Epoch 2/27\n",
      "250/250 [==============================] - 29s 115ms/step - loss: 0.5907 - accuracy: 0.6835 - val_loss: 0.5958 - val_accuracy: 0.7085\n",
      "Epoch 3/27\n",
      "250/250 [==============================] - 29s 116ms/step - loss: 0.5419 - accuracy: 0.7203 - val_loss: 0.5156 - val_accuracy: 0.7480\n",
      "Epoch 4/27\n",
      "250/250 [==============================] - 29s 117ms/step - loss: 0.5060 - accuracy: 0.7487 - val_loss: 0.5052 - val_accuracy: 0.7585\n",
      "Epoch 5/27\n",
      "250/250 [==============================] - 29s 118ms/step - loss: 0.4915 - accuracy: 0.7642 - val_loss: 0.5347 - val_accuracy: 0.7560\n",
      "Epoch 6/27\n",
      "250/250 [==============================] - 29s 118ms/step - loss: 0.4708 - accuracy: 0.7706 - val_loss: 0.4777 - val_accuracy: 0.7720\n",
      "Epoch 7/27\n",
      "250/250 [==============================] - 29s 118ms/step - loss: 0.4639 - accuracy: 0.7761 - val_loss: 0.4854 - val_accuracy: 0.7655\n",
      "Epoch 8/27\n",
      "250/250 [==============================] - 30s 118ms/step - loss: 0.4484 - accuracy: 0.7900 - val_loss: 0.5271 - val_accuracy: 0.7500\n",
      "Epoch 9/27\n",
      "250/250 [==============================] - 30s 119ms/step - loss: 0.4379 - accuracy: 0.7945 - val_loss: 0.4752 - val_accuracy: 0.7770\n",
      "Epoch 10/27\n",
      "250/250 [==============================] - 30s 119ms/step - loss: 0.4265 - accuracy: 0.7989 - val_loss: 0.4766 - val_accuracy: 0.7805\n",
      "Epoch 11/27\n",
      "250/250 [==============================] - 30s 120ms/step - loss: 0.4138 - accuracy: 0.8144 - val_loss: 0.5205 - val_accuracy: 0.7490\n",
      "Epoch 12/27\n",
      "250/250 [==============================] - 30s 120ms/step - loss: 0.4082 - accuracy: 0.8105 - val_loss: 0.4530 - val_accuracy: 0.7935\n",
      "Epoch 13/27\n",
      "250/250 [==============================] - 30s 120ms/step - loss: 0.3911 - accuracy: 0.8190 - val_loss: 0.4668 - val_accuracy: 0.7855\n",
      "Epoch 14/27\n",
      "250/250 [==============================] - 30s 119ms/step - loss: 0.3920 - accuracy: 0.8183 - val_loss: 0.5064 - val_accuracy: 0.7655\n",
      "Epoch 15/27\n",
      "250/250 [==============================] - 30s 120ms/step - loss: 0.3789 - accuracy: 0.8313 - val_loss: 0.4865 - val_accuracy: 0.7870\n",
      "Epoch 16/27\n",
      "250/250 [==============================] - 30s 120ms/step - loss: 0.3615 - accuracy: 0.8438 - val_loss: 0.4394 - val_accuracy: 0.8010\n",
      "Epoch 17/27\n",
      "250/250 [==============================] - 30s 121ms/step - loss: 0.3449 - accuracy: 0.8506 - val_loss: 0.4421 - val_accuracy: 0.8010\n",
      "Epoch 18/27\n",
      "250/250 [==============================] - 31s 122ms/step - loss: 0.3450 - accuracy: 0.8469 - val_loss: 0.4803 - val_accuracy: 0.8050\n",
      "Epoch 19/27\n",
      "250/250 [==============================] - 30s 122ms/step - loss: 0.3285 - accuracy: 0.8545 - val_loss: 0.4388 - val_accuracy: 0.8020\n",
      "Epoch 20/27\n",
      "250/250 [==============================] - 30s 121ms/step - loss: 0.3203 - accuracy: 0.8595 - val_loss: 0.4956 - val_accuracy: 0.7780\n",
      "Epoch 21/27\n",
      "250/250 [==============================] - 30s 121ms/step - loss: 0.3072 - accuracy: 0.8656 - val_loss: 0.4593 - val_accuracy: 0.8000\n",
      "Epoch 22/27\n",
      "250/250 [==============================] - 30s 121ms/step - loss: 0.2982 - accuracy: 0.8684 - val_loss: 0.4715 - val_accuracy: 0.8055\n",
      "Epoch 23/27\n",
      "250/250 [==============================] - 30s 121ms/step - loss: 0.2800 - accuracy: 0.8811 - val_loss: 0.4827 - val_accuracy: 0.8080\n",
      "Epoch 24/27\n",
      "250/250 [==============================] - 30s 121ms/step - loss: 0.2750 - accuracy: 0.8825 - val_loss: 0.5103 - val_accuracy: 0.7895\n",
      "Epoch 25/27\n",
      "250/250 [==============================] - 30s 121ms/step - loss: 0.2657 - accuracy: 0.8885 - val_loss: 0.4709 - val_accuracy: 0.8090\n",
      "Epoch 26/27\n",
      "250/250 [==============================] - 30s 120ms/step - loss: 0.2488 - accuracy: 0.8969 - val_loss: 0.4936 - val_accuracy: 0.7980\n",
      "Epoch 27/27\n",
      "250/250 [==============================] - 30s 120ms/step - loss: 0.2373 - accuracy: 0.9001 - val_loss: 0.5185 - val_accuracy: 0.8040\n"
     ]
    },
    {
     "data": {
      "text/plain": [
       "<tensorflow.python.keras.callbacks.History at 0x2101100e670>"
      ]
     },
     "execution_count": 26,
     "metadata": {},
     "output_type": "execute_result"
    }
   ],
   "source": [
    "cnn.fit(x=training_set,validation_data=test_set,epochs=127)"
   ]
  }
 ],
 "metadata": {
  "colab": {
   "collapsed_sections": [],
   "name": "convolutional_neural_network.ipynb",
   "provenance": []
  },
  "kernelspec": {
   "display_name": "Python 3",
   "language": "python",
   "name": "python3"
  },
  "language_info": {
   "codemirror_mode": {
    "name": "ipython",
    "version": 3
   },
   "file_extension": ".py",
   "mimetype": "text/x-python",
   "name": "python",
   "nbconvert_exporter": "python",
   "pygments_lexer": "ipython3",
   "version": "3.8.8"
  }
 },
 "nbformat": 4,
 "nbformat_minor": 1
}
